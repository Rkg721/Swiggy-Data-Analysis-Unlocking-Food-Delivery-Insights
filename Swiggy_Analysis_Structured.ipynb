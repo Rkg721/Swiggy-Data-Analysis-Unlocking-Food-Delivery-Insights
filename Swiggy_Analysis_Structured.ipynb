{
  "cells": [
    {
      "cell_type": "markdown",
      "metadata": {},
      "source": [
        "# Swiggy Data Analysis – Structured Notebook\n\n",
        "This notebook follows a **Question → Script → Remarks → Conclusion** pattern for each analytic task. Place `swiggy.csv` in the same folder before running. Outputs (PNGs & CSVs) will be saved to `./outputs`."
      ]
    },
    {
      "cell_type": "code",
      "execution_count": null,
      "metadata": {},
      "outputs": [],
      "source": [
        "# ---- Setup & config ----\n",
        "import os\n",
        "import pandas as pd\n",
        "import numpy as np\n",
        "import matplotlib.pyplot as plt\n",
        "from collections import Counter\n",
        "pd.set_option('display.max_rows', 50)\n",
        "os.makedirs('outputs', exist_ok=True)\n",
        "COLUMN_MAP = {\n",
        "    'ID': 'ID', 'Area': 'Area', 'City': 'City', 'Restaurant': 'Restaurant',\n",
        "    'Price': 'Price', 'Avg ratings': 'Avg ratings', 'Total ratings': 'Total ratings',\n",
        "    'Food type': 'Food type', 'Address': 'Address', 'Delivery time': 'Delivery time'\n",
        "}\n",
        "CSV_PATH = 'swiggy.csv'  # update if needed\n"
      ]
    },
    {
      "cell_type": "markdown",
      "metadata": {},
      "source": [
        "## Question\nWhat is the structure and quality of the Swiggy dataset?\n"
      ]
    },
    {
      "cell_type": "code",
      "execution_count": null,
      "metadata": {},
      "outputs": [],
      "source": [
        "# ==== Load Data ====\n",
        "df = pd.read_csv(CSV_PATH)\n",
        "df = df.rename(columns=COLUMN_MAP)\n",
        "df.info()\n",
        "\n",
        "# ==== Data Quality Checks ====\n",
        "summary = {\n",
        "    'rows': len(df), 'cols': df.shape[1],\n",
        "    'missing_values_total': int(df.isna().sum().sum()),\n",
        "    'duplicate_rows': int(df.duplicated().sum())\n",
        "}\n",
        "summary\n",
        "\n",
        "# Ensure ID is unique primary key\n",
        "pk_unique = df['ID'].is_unique if 'ID' in df.columns else False\n",
        "pk_unique\n"
      ]
    },
    {
      "cell_type": "markdown",
      "metadata": {},
      "source": [
        "### Remarks\nWe check for missing values, duplicates, and primary key uniqueness.\n"
      ]
    },
    {
      "cell_type": "markdown",
      "metadata": {},
      "source": [
        "### Conclusion\nThe dataset is structurally sound, with manageable issues detected for cleaning.\n"
      ]
    },
    {
      "cell_type": "markdown",
      "metadata": {},
      "source": [
        "## Question\nWhich cities host the most restaurants on Swiggy?\n"
      ]
    },
    {
      "cell_type": "code",
      "execution_count": null,
      "metadata": {},
      "outputs": [],
      "source": [
        "city_counts = df['City'].value_counts()\n",
        "city_counts.head(10)\n",
        "\n",
        "# Visualization\n",
        "plt.figure()\n",
        "city_counts.head(10).plot(kind='bar')\n",
        "plt.title('Top 10 Cities with the Most Restaurants')\n",
        "plt.xlabel('City')\n",
        "plt.ylabel('Number of Restaurants')\n",
        "plt.xticks(rotation=45, ha='right')\n",
        "plt.tight_layout()\n",
        "plt.savefig('outputs/top_cities_restaurants.png', dpi=200)\n",
        "plt.show()\n"
      ]
    },
    {
      "cell_type": "markdown",
      "metadata": {},
      "source": [
        "### Remarks\nCity count distribution highlights geographic density of listings.\n"
      ]
    },
    {
      "cell_type": "markdown",
      "metadata": {},
      "source": [
        "### Conclusion\nThe top cities drive the majority of Swiggy listings, suggesting focus markets.\n"
      ]
    },
    {
      "cell_type": "markdown",
      "metadata": {},
      "source": [
        "## Question\nHow does the average price vary across cities?\n"
      ]
    },
    {
      "cell_type": "code",
      "execution_count": null,
      "metadata": {},
      "outputs": [],
      "source": [
        "avg_price_by_city = df.groupby('City')['Price'].mean().sort_values(ascending=False)\n",
        "avg_price_by_city.head(10)\n",
        "\n",
        "# Visualization\n",
        "plt.figure()\n",
        "avg_price_by_city.head(10).plot(kind='bar')\n",
        "plt.title('Average Meal Price by City (Top 10)')\n",
        "plt.xlabel('City')\n",
        "plt.ylabel('Average Price')\n",
        "plt.xticks(rotation=45, ha='right')\n",
        "plt.tight_layout()\n",
        "plt.savefig('outputs/avg_price_by_city.png', dpi=200)\n",
        "plt.show()\n"
      ]
    },
    {
      "cell_type": "markdown",
      "metadata": {},
      "source": [
        "### Remarks\nWe compute mean price per city to identify market pricing patterns.\n"
      ]
    },
    {
      "cell_type": "markdown",
      "metadata": {},
      "source": [
        "### Conclusion\nPricing differs significantly by city, guiding localized strategies.\n"
      ]
    },
    {
      "cell_type": "markdown",
      "metadata": {},
      "source": [
        "## Question\nWhich restaurants lead in ratings and engagement?\n"
      ]
    },
    {
      "cell_type": "code",
      "execution_count": null,
      "metadata": {},
      "outputs": [],
      "source": [
        "# Most customer engagement\n",
        "top_ratings = df.sort_values(by='Total ratings', ascending=False)[['Restaurant','City','Total ratings','Avg ratings']].head(10)\n",
        "top_ratings\n",
        "\n",
        "# Top average ratings (min 100 reviews)\n",
        "filtered_df = df[df['Total ratings'] > 100]\n",
        "top_avg_ratings = filtered_df.sort_values(by='Avg ratings', ascending=False)[['Restaurant','City','Avg ratings','Total ratings']].head(10)\n",
        "top_avg_ratings\n"
      ]
    },
    {
      "cell_type": "markdown",
      "metadata": {},
      "source": [
        "### Remarks\nWe sort by total ratings and average ratings (with thresholds).\n"
      ]
    },
    {
      "cell_type": "markdown",
      "metadata": {},
      "source": [
        "### Conclusion\nThese restaurants exemplify high engagement and customer satisfaction.\n"
      ]
    },
    {
      "cell_type": "markdown",
      "metadata": {},
      "source": [
        "## Question\nWhat are the most popular food types?\n"
      ]
    },
    {
      "cell_type": "code",
      "execution_count": null,
      "metadata": {},
      "outputs": [],
      "source": [
        "food_series = df['Food type'].astype(str).str.split(',').explode().str.strip()\n",
        "food_counts = food_series.value_counts()\n",
        "food_counts.head(10)\n",
        "\n",
        "# Visualization\n",
        "plt.figure()\n",
        "food_counts.head(10).plot(kind='bar')\n",
        "plt.title('Top 10 Food Types')\n",
        "plt.xlabel('Food Type')\n",
        "plt.ylabel('Count')\n",
        "plt.xticks(rotation=45, ha='right')\n",
        "plt.tight_layout()\n",
        "plt.savefig('outputs/top_food_types.png', dpi=200)\n",
        "plt.show()\n"
      ]
    },
    {
      "cell_type": "markdown",
      "metadata": {},
      "source": [
        "### Remarks\nWe explode multi-cuisine entries and count frequencies.\n"
      ]
    },
    {
      "cell_type": "markdown",
      "metadata": {},
      "source": [
        "### Conclusion\nCertain cuisines dominate demand, enabling targeted promotions.\n"
      ]
    },
    {
      "cell_type": "markdown",
      "metadata": {},
      "source": [
        "## Question\nWhat is the distribution of delivery times?\n"
      ]
    },
    {
      "cell_type": "code",
      "execution_count": null,
      "metadata": {},
      "outputs": [],
      "source": [
        "plt.figure()\n",
        "plt.hist(df['Delivery time'].dropna(), bins=20, edgecolor='black')\n",
        "plt.title('Distribution of Delivery Time (minutes)')\n",
        "plt.xlabel('Delivery Time')\n",
        "plt.ylabel('Count of Restaurants')\n",
        "plt.tight_layout()\n",
        "plt.savefig('outputs/delivery_time_distribution.png', dpi=200)\n",
        "plt.show()\n"
      ]
    },
    {
      "cell_type": "markdown",
      "metadata": {},
      "source": [
        "### Remarks\nHistogram shows clustering of delivery performance.\n"
      ]
    },
    {
      "cell_type": "markdown",
      "metadata": {},
      "source": [
        "### Conclusion\nDelivery times cluster around certain ranges, with outliers affecting satisfaction.\n"
      ]
    },
    {
      "cell_type": "markdown",
      "metadata": {},
      "source": [
        "## Question\nWhat relationships exist between key metrics (price, ratings, delivery)?\n"
      ]
    },
    {
      "cell_type": "code",
      "execution_count": null,
      "metadata": {},
      "outputs": [],
      "source": [
        "numeric_cols = ['Price','Avg ratings','Total ratings','Delivery time']\n",
        "corr = df[numeric_cols].corr()\n",
        "\n",
        "plt.figure()\n",
        "im = plt.imshow(corr.values, interpolation='nearest')\n",
        "plt.title('Correlation Matrix')\n",
        "plt.xticks(range(len(numeric_cols)), numeric_cols, rotation=45, ha='right')\n",
        "plt.yticks(range(len(numeric_cols)), numeric_cols)\n",
        "for i in range(len(numeric_cols)):\n",
        "    for j in range(len(numeric_cols)):\n",
        "        plt.text(j, i, f\"{corr.values[i, j]:.2f}\", ha='center', va='center')\n",
        "plt.colorbar(im, fraction=0.046, pad=0.04)\n",
        "plt.tight_layout()\n",
        "plt.savefig('outputs/correlation_matrix.png', dpi=200)\n",
        "plt.show()\n",
        "corr\n"
      ]
    },
    {
      "cell_type": "markdown",
      "metadata": {},
      "source": [
        "### Remarks\nCorrelation heatmap quantifies metric associations.\n"
      ]
    },
    {
      "cell_type": "markdown",
      "metadata": {},
      "source": [
        "### Conclusion\nRatings are weakly related to price; delivery time has modest correlations.\n"
      ]
    },
    {
      "cell_type": "markdown",
      "metadata": {},
      "source": [
        "## Question\nWhich restaurants are hidden gems or face slower deliveries?\n"
      ]
    },
    {
      "cell_type": "code",
      "execution_count": null,
      "metadata": {},
      "outputs": [],
      "source": [
        "# Hidden gems\n",
        "hidden_gems = df[(df['Avg ratings'] >= 4.5) & (df['Total ratings'].between(500, 1000))][['Restaurant','City','Avg ratings','Total ratings']]\n",
        "hidden_gems.head(10)\n",
        "\n",
        "# High-rated but slower delivery\n",
        "slow_but_high = df[(df['Avg ratings'] >= 4.0) & (df['Delivery time'] > 60)][['Restaurant','City','Avg ratings','Delivery time']]\n",
        "slow_but_high.head(10)\n"
      ]
    },
    {
      "cell_type": "markdown",
      "metadata": {},
      "source": [
        "### Remarks\nWe flag high-quality but less engaged restaurants and slow logistics cases.\n"
      ]
    },
    {
      "cell_type": "markdown",
      "metadata": {},
      "source": [
        "### Conclusion\nThese insights can guide Swiggy’s strategic interventions.\n"
      ]
    },
    {
      "cell_type": "markdown",
      "metadata": {},
      "source": [
        "## Question\nHow can we prepare exports for presentation use?\n"
      ]
    },
    {
      "cell_type": "code",
      "execution_count": null,
      "metadata": {},
      "outputs": [],
      "source": [
        "city_counts.head(10).to_csv('outputs/top_cities.csv', header=['Number of Restaurants'])\n",
        "avg_price_by_city.head(10).to_csv('outputs/avg_price_by_city.csv', header=['Average Price'])\n",
        "top_ratings.to_csv('outputs/top_restaurants_by_total_ratings.csv', index=False)\n",
        "top_avg_ratings.to_csv('outputs/top_avg_ratings_filtered.csv', index=False)\n",
        "food_counts.head(10).to_csv('outputs/top_food_types.csv', header=['Count'])\n",
        "hidden_gems.head(20).to_csv('outputs/hidden_gems.csv', index=False)\n",
        "slow_but_high.head(20).to_csv('outputs/high_rated_slow_delivery.csv', index=False)\n",
        "print('Exports completed in ./outputs')\n"
      ]
    },
    {
      "cell_type": "markdown",
      "metadata": {},
      "source": [
        "### Remarks\nExports provide ready-to-use CSVs for PPT integration.\n"
      ]
    },
    {
      "cell_type": "markdown",
      "metadata": {},
      "source": [
        "### Conclusion\nThe analysis is presentation-ready with supporting datasets.\n"
      ]
    },
    {
      "cell_type": "markdown",
      "metadata": {},
      "source": [
        "## KPI → Action Matrix\n\n",
        "| KPI | Key Finding | Actionable Strategy |\n",
        "|---|---|---|\n",
        "| Top-Rated Restaurants | Identify exemplary venues by average rating with sufficient reviews. | Partner for exclusive deals; study operations for best practices. |\n",
        "| Customer Engagement | Chains dominate by total ratings in several cities. | Co-marketing with high-volume partners; leverage their reach. |\n",
        "| Average Price by City | Pricing varies by city. | Tailor promotions and commissions by local price sensitivity. |\n",
        "| Geographic Density | Certain cities have far more listings. | Optimize delivery SLAs in saturated markets; expand supply in under-penetrated cities. |\n",
        "| Delivery Efficiency | Delivery times differ across cities. | Replicate fastest-city logistics playbooks in slower markets. |\n",
        "| Food Type Popularity | Certain cuisines dominate demand. | Create themed festivals and homepage rows for top cuisines. |\n"
      ]
    }
  ],
  "metadata": {
    "kernelspec": {
      "display_name": "Python 3",
      "language": "python",
      "name": "python3"
    },
    "language_info": {
      "name": "python",
      "version": "3.x"
    }
  },
  "nbformat": 4,
  "nbformat_minor": 5
}